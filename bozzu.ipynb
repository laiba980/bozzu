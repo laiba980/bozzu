{
 "cells": [
  {
   "cell_type": "code",
   "execution_count": 1,
   "id": "19a347fd",
   "metadata": {},
   "outputs": [
    {
     "name": "stdout",
     "output_type": "stream",
     "text": [
      "Hello\n"
     ]
    }
   ],
   "source": [
    "s=\"hello\"\n",
    "print(s.capitalize())"
   ]
  },
  {
   "cell_type": "code",
   "execution_count": 3,
   "id": "768d0b07",
   "metadata": {},
   "outputs": [
    {
     "name": "stdout",
     "output_type": "stream",
     "text": [
      "Hello\n",
      "HELLO\n",
      "  hello\n",
      "hello\n",
      "hello\n",
      "world\n"
     ]
    }
   ],
   "source": [
    "s=\"hello\"\n",
    "print(s.capitalize())  #capitalize #string; prints\"hello\"\n",
    "print(s.upper())        #covert #string to uppercase; prints\"HELLO\"\n",
    "print(s.rjust(7))     #right.justify a string, padding with spaces: prints\"hello\"\n",
    "print(s.center(5))\n",
    "print(s.replace('1','e11'))\n",
    "print('world'.strip())"
   ]
  },
  {
   "cell_type": "code",
   "execution_count": 4,
   "id": "f50148ce",
   "metadata": {},
   "outputs": [
    {
     "name": "stdout",
     "output_type": "stream",
     "text": [
      "<class 'str'>\n",
      "False\n",
      "True\n",
      "False\n",
      "True\n"
     ]
    }
   ],
   "source": [
    "a= \"True\"\n",
    "f= False\n",
    "print (type(a))   #prints \"<class 'bool>'\"\n",
    "print(a and f)    #logical and ;prints\"false\"\n",
    "print(a or f)     #logical or ;prints\"true\"\n",
    "print(not a)      #logical not; prints \"false\"\n",
    "print(a !=f)      #logical XOR; prints \"true\""
   ]
  },
  {
   "cell_type": "code",
   "execution_count": 5,
   "id": "0c7a84c3",
   "metadata": {},
   "outputs": [
    {
     "name": "stdout",
     "output_type": "stream",
     "text": [
      "<class 'str'>\n",
      "False\n",
      "True\n",
      "True\n",
      "True\n"
     ]
    }
   ],
   "source": [
    "a= \"True\"\n",
    "f= False\n",
    "print (type(a))   #prints \"<class 'bool>'\"\n",
    "print(a and f)    #logical and ;prints\"false\"\n",
    "print(a or f)     #logical or ;prints\"true\"\n",
    "print(not f)      #logical not; prints \"false\"\n",
    "print(a !=f)      #logical XOR; prints \"true\""
   ]
  },
  {
   "cell_type": "code",
   "execution_count": 6,
   "id": "16c9f007",
   "metadata": {},
   "outputs": [
    {
     "name": "stdout",
     "output_type": "stream",
     "text": [
      "True\n",
      "<class 'str'>\n",
      "True\n",
      "True\n",
      "False\n",
      "True\n"
     ]
    }
   ],
   "source": [
    "a= \"True\"\n",
    "f= False\n",
    "g = a and f or a and a or f\n",
    "print (g)\n",
    "print (type(a))   #prints \"<class 'bool>'\"\n",
    "print(a and f or a)    #logical and ;prints\"false\"\n",
    "print(a or f)     #logical or ;prints\"true\"\n",
    "print(not a)      #logical not; prints \"false\"\n",
    "print(a !=f)      #logical XOR; prints \"true\""
   ]
  },
  {
   "cell_type": "code",
   "execution_count": null,
   "id": "9e4b857c",
   "metadata": {},
   "outputs": [],
   "source": [
    "import numpy as np\n",
    "import matplotlib.pyplot as plt"
   ]
  },
  {
   "cell_type": "code",
   "execution_count": 1,
   "id": "610a63ff",
   "metadata": {},
   "outputs": [
    {
     "name": "stdout",
     "output_type": "stream",
     "text": [
      "my name is laiba\n"
     ]
    }
   ],
   "source": [
    "a=5\n",
    "b=5\n",
    "if b==a:\n",
    "    print(\"my name is laiba\")"
   ]
  },
  {
   "cell_type": "code",
   "execution_count": 5,
   "id": "48fa182d",
   "metadata": {},
   "outputs": [
    {
     "name": "stdout",
     "output_type": "stream",
     "text": [
      "0\n",
      "1\n",
      "2\n",
      "3\n",
      "4\n",
      "5\n",
      "6\n",
      "7\n",
      "8\n",
      "9\n",
      "10\n",
      "11\n",
      "12\n",
      "13\n",
      "14\n",
      "15\n",
      "16\n",
      "17\n",
      "18\n"
     ]
    }
   ],
   "source": [
    "a=19\n",
    "if a==19:\n",
    "    for i in range(a):\n",
    "        print(i)"
   ]
  },
  {
   "cell_type": "markdown",
   "id": "980da904",
   "metadata": {},
   "source": []
  },
  {
   "cell_type": "code",
   "execution_count": 6,
   "id": "fecd84c2",
   "metadata": {},
   "outputs": [
    {
     "name": "stdout",
     "output_type": "stream",
     "text": [
      "164\n"
     ]
    }
   ],
   "source": [
    "x=9\n",
    "f=lambda x:2*x**2+2\n",
    "print (f(x))"
   ]
  },
  {
   "cell_type": "code",
   "execution_count": 7,
   "id": "3b0a8dc1",
   "metadata": {},
   "outputs": [
    {
     "name": "stdout",
     "output_type": "stream",
     "text": [
      "enter x1:5\n",
      "enter x2:10\n"
     ]
    }
   ],
   "source": [
    "x1=float(input(\"enter x1:\"))\n",
    "x2=float(input(\"enter x2:\"))"
   ]
  },
  {
   "cell_type": "code",
   "execution_count": 8,
   "id": "694609d7",
   "metadata": {},
   "outputs": [
    {
     "data": {
      "text/plain": [
       "5.0"
      ]
     },
     "execution_count": 8,
     "metadata": {},
     "output_type": "execute_result"
    }
   ],
   "source": [
    "x1"
   ]
  },
  {
   "cell_type": "code",
   "execution_count": 9,
   "id": "19369d70",
   "metadata": {},
   "outputs": [
    {
     "data": {
      "text/plain": [
       "10.0"
      ]
     },
     "execution_count": 9,
     "metadata": {},
     "output_type": "execute_result"
    }
   ],
   "source": [
    "x2"
   ]
  },
  {
   "cell_type": "code",
   "execution_count": 10,
   "id": "f8563b2b",
   "metadata": {},
   "outputs": [
    {
     "name": "stdout",
     "output_type": "stream",
     "text": [
      "bozzu\n"
     ]
    }
   ],
   "source": [
    "x=\"bozzu\"\n",
    "print(x)"
   ]
  },
  {
   "cell_type": "code",
   "execution_count": null,
   "id": "d33b1f19",
   "metadata": {},
   "outputs": [],
   "source": []
  }
 ],
 "metadata": {
  "kernelspec": {
   "display_name": "Python 3 (ipykernel)",
   "language": "python",
   "name": "python3"
  },
  "language_info": {
   "codemirror_mode": {
    "name": "ipython",
    "version": 3
   },
   "file_extension": ".py",
   "mimetype": "text/x-python",
   "name": "python",
   "nbconvert_exporter": "python",
   "pygments_lexer": "ipython3",
   "version": "3.9.7"
  }
 },
 "nbformat": 4,
 "nbformat_minor": 5
}
